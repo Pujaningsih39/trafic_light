{
 "cells": [
  {
   "cell_type": "markdown",
   "id": "08ee8a11",
   "metadata": {},
   "source": [
    "## Modul Test (Berbasis Proyek)"
   ]
  },
  {
   "cell_type": "markdown",
   "id": "ad5dc3e4",
   "metadata": {},
   "source": [
    "### Posisi : Machine Vision - AI Engineer"
   ]
  },
  {
   "cell_type": "markdown",
   "id": "f7d345d9",
   "metadata": {},
   "source": [
    "#### Lybrary"
   ]
  },
  {
   "cell_type": "markdown",
   "id": "c6c587be",
   "metadata": {},
   "source": [
    "!pip install opencv-python\n",
    "!pip install opencv-python-headless  # Jika Anda tidak memerlukan GUI"
   ]
  },
  {
   "cell_type": "code",
   "execution_count": 29,
   "id": "89f377ff",
   "metadata": {},
   "outputs": [],
   "source": [
    "import cv2\n",
    "import numpy as np\n",
    "import datetime"
   ]
  },
  {
   "cell_type": "markdown",
   "id": "4723744d",
   "metadata": {},
   "source": [
    "#### Membaca Video dan Mendeteksi Warna (HSV Color)"
   ]
  },
  {
   "cell_type": "code",
   "execution_count": 32,
   "id": "0cd92da5",
   "metadata": {},
   "outputs": [],
   "source": [
    "cap = cv2.VideoCapture('trafic_light.mp4')\n",
    "\n",
    "def detect_traffic_light(frame):\n",
    "    # Konversi ke ruang warna HSV\n",
    "    hsv = cv2.cvtColor(frame, cv2.COLOR_BGR2HSV)\n",
    "\n",
    "    # Definisikan rentang warna untuk merah, kuning, dan hijau\n",
    "    \n",
    "    red_lower = np.array([170, 120, 100])\n",
    "    red_upper = np.array([180, 255, 255])\n",
    "\n",
    "    yellow_lower = np.array([20, 150, 150])\n",
    "    yellow_upper = np.array([35, 255, 255])\n",
    "\n",
    "    green_lower = np.array([35, 100, 100])\n",
    "    green_upper = np.array([85, 255, 255])\n",
    "\n",
    "    # Deteksi warna\n",
    "    red_mask = cv2.inRange(hsv, red_lower, red_upper)\n",
    "    yellow_mask = cv2.inRange(hsv, yellow_lower, yellow_upper)\n",
    "    green_mask = cv2.inRange(hsv, green_lower, green_upper)\n",
    "\n",
    "    # Lakukan operasi morfologi untuk mengurangi noise\n",
    "    kernel = np.ones((5, 5), np.uint8)\n",
    "    red_mask = cv2.morphologyEx(red_mask, cv2.MORPH_CLOSE, kernel)\n",
    "    yellow_mask = cv2.morphologyEx(yellow_mask, cv2.MORPH_CLOSE, kernel)\n",
    "    green_mask = cv2.morphologyEx(green_mask, cv2.MORPH_CLOSE, kernel)\n",
    "\n",
    "    return red_mask, yellow_mask, green_mask"
   ]
  },
  {
   "cell_type": "markdown",
   "id": "bbcafaf3",
   "metadata": {},
   "source": [
    "#### Bounding Box, Labeling, Logging the Detections, Image Enhancement"
   ]
  },
  {
   "cell_type": "code",
   "execution_count": 33,
   "id": "57e64c81",
   "metadata": {},
   "outputs": [],
   "source": [
    "def draw_bounding_box(frame, mask, color_name):\n",
    "    contours, _ = cv2.findContours(mask, cv2.RETR_EXTERNAL, cv2.CHAIN_APPROX_SIMPLE)\n",
    "    for contour in contours:\n",
    "        if cv2.contourArea(contour) > 500:  # Filter berdasarkan ukuran\n",
    "            x, y, w, h = cv2.boundingRect(contour)\n",
    "            cv2.rectangle(frame, (x, y), (x + w, y + h), (0, 255, 0), 2)\n",
    "            cv2.putText(frame, color_name, (x, y - 10), cv2.FONT_HERSHEY_SIMPLEX, 0.5, (0, 255, 0), 2)\n",
    "            log_detection(color_name)\n",
    "\n",
    "def log_detection(color_name):\n",
    "    timestamp = datetime.datetime.now().strftime('%Y-%m-%d %H:%M:%S')\n",
    "    with open('detection_log.txt', 'a') as log_file:\n",
    "        log_file.write(f\"{timestamp}: {color_name}\\n\")\n",
    "\n",
    "def enhance_image(frame):\n",
    "    # Menajamkan gambar menggunakan kernel\n",
    "    kernel = np.array([[0, -1, 0], [-1, 5, -1], [0, -1, 0]])  # Kernel penajaman\n",
    "    enhanced = cv2.filter2D(frame, -1, kernel)\n",
    "    return enhanced\n",
    "\n",
    "while cap.isOpened():\n",
    "    ret, frame = cap.read()\n",
    "    if not ret:\n",
    "        break\n",
    "\n",
    "    # Tingkatkan gambar jika diperlukan\n",
    "    enhanced_frame = enhance_image(frame)\n",
    "\n",
    "    # Deteksi warna lampu lalu lintas\n",
    "    red_mask, yellow_mask, green_mask = detect_traffic_light(enhanced_frame)\n",
    "\n",
    "    # Gambar bounding box untuk setiap warna\n",
    "    draw_bounding_box(frame, red_mask, 'Red')\n",
    "    draw_bounding_box(frame, yellow_mask, 'Yellow')\n",
    "    draw_bounding_box(frame, green_mask, 'Green')\n",
    "\n",
    "    # Tampilkan frame hasil deteksi\n",
    "    cv2.imshow('Traffic Light Detection', frame)\n",
    "\n",
    "    # Keluar jika tombol 'q' ditekan\n",
    "    if cv2.waitKey(1) & 0xFF == ord('q'):\n",
    "        break\n",
    "\n",
    "# Lepaskan objek video dan tutup semua jendela\n",
    "cap.release()\n",
    "cv2.destroyAllWindows()"
   ]
  },
  {
   "cell_type": "code",
   "execution_count": null,
   "id": "618694f7",
   "metadata": {},
   "outputs": [],
   "source": []
  }
 ],
 "metadata": {
  "kernelspec": {
   "display_name": "Python 3 (ipykernel)",
   "language": "python",
   "name": "python3"
  },
  "language_info": {
   "codemirror_mode": {
    "name": "ipython",
    "version": 3
   },
   "file_extension": ".py",
   "mimetype": "text/x-python",
   "name": "python",
   "nbconvert_exporter": "python",
   "pygments_lexer": "ipython3",
   "version": "3.11.3"
  }
 },
 "nbformat": 4,
 "nbformat_minor": 5
}
